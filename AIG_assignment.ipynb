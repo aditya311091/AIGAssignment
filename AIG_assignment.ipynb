{
 "cells": [
  {
   "cell_type": "code",
   "execution_count": 3,
   "metadata": {
    "collapsed": false
   },
   "outputs": [],
   "source": [
    "# %load main.py\n",
    "from data_import import load_states, load_data\n",
    "from helping_functions import get_state_id, id_to_state\n",
    "import pandas as pd\n",
    "\n",
    "#Load tsv file with polygon coordinates of US States\n",
    "states = load_states('data\\US States Polygons.tsv')\n",
    "\n",
    "#Load the Data collected by Underwriter Sheila\n",
    "data = load_data('data\\Example Supplier List.xlsx')\n",
    "\n",
    "#Prepare a dictionary with key:value as 'State Code': 'State Name'\n",
    "code_to_state = id_to_state(states)\n",
    "\n",
    "#Fill up 'States' column using Coordinates of sites\n",
    "data['State'] = data['Coordinates'].apply(lambda x: code_to_state.get(get_state_id(x, states)))\n",
    "\n",
    "#Find out State-wise accumulations using groupby\n",
    "output = data.groupby('State')['Insured Limit ($ in thousands)'].sum()\n",
    "\n",
    "output = output.add_suffix('').reset_index()\n",
    "\n",
    "#Save the output to a csv file: 'State-level Accumulations.csv'\n",
    "output.to_csv('State-level Accumulations.csv')"
   ]
  },
  {
   "cell_type": "code",
   "execution_count": 45,
   "metadata": {
    "collapsed": false
   },
   "outputs": [
    {
     "name": "stdout",
     "output_type": "stream",
     "text": [
      "High five! You successfuly sent some data to your account on plotly. View your plot in your browser at https://plot.ly/~aditya311091/0 or inside your plot.ly account where it is named 'd3-cloropleth-map'\n"
     ]
    }
   ],
   "source": [
    "from draw_chloropleth import draw_chloropleth\n",
    "\n",
    "state_id = states[['STATE_CODE','STATE_NAME']].drop_duplicates()\n",
    "\n",
    "state_to_id = {k.strip(' '):v.strip(' ') for (k, v) in zip(state_id['STATE_NAME'], state_id['STATE_CODE'])}\n",
    "\n",
    "output['Code'] = output['State'].apply(lambda x: state_to_id[x])\n",
    "\n",
    "draw_chloropleth(output)"
   ]
  },
  {
   "cell_type": "code",
   "execution_count": 40,
   "metadata": {
    "collapsed": false
   },
   "outputs": [
    {
     "data": {
      "text/html": [
       "<div>\n",
       "<table border=\"1\" class=\"dataframe\">\n",
       "  <thead>\n",
       "    <tr style=\"text-align: right;\">\n",
       "      <th></th>\n",
       "      <th>State</th>\n",
       "      <th>Insured Limit ($ in thousands)</th>\n",
       "      <th>Code</th>\n",
       "    </tr>\n",
       "  </thead>\n",
       "  <tbody>\n",
       "    <tr>\n",
       "      <th>0</th>\n",
       "      <td>Alabama</td>\n",
       "      <td>444831</td>\n",
       "      <td>AL</td>\n",
       "    </tr>\n",
       "    <tr>\n",
       "      <th>1</th>\n",
       "      <td>Alaska</td>\n",
       "      <td>62738</td>\n",
       "      <td>AK</td>\n",
       "    </tr>\n",
       "    <tr>\n",
       "      <th>2</th>\n",
       "      <td>Arizona</td>\n",
       "      <td>472930</td>\n",
       "      <td>AZ</td>\n",
       "    </tr>\n",
       "    <tr>\n",
       "      <th>3</th>\n",
       "      <td>Arkansas</td>\n",
       "      <td>230460</td>\n",
       "      <td>AR</td>\n",
       "    </tr>\n",
       "    <tr>\n",
       "      <th>4</th>\n",
       "      <td>California</td>\n",
       "      <td>3404276</td>\n",
       "      <td>CA</td>\n",
       "    </tr>\n",
       "  </tbody>\n",
       "</table>\n",
       "</div>"
      ],
      "text/plain": [
       "        State  Insured Limit ($ in thousands) Code\n",
       "0     Alabama                          444831   AL\n",
       "1      Alaska                           62738   AK\n",
       "2     Arizona                          472930   AZ\n",
       "3    Arkansas                          230460   AR\n",
       "4  California                         3404276   CA"
      ]
     },
     "execution_count": 40,
     "metadata": {},
     "output_type": "execute_result"
    }
   ],
   "source": [
    "output['Code'] = output['State'].apply(lambda x: state_to_id[x])\n",
    "output.head()"
   ]
  },
  {
   "cell_type": "code",
   "execution_count": 13,
   "metadata": {
    "collapsed": true
   },
   "outputs": [],
   "source": [
    "import pandas as pd"
   ]
  },
  {
   "cell_type": "code",
   "execution_count": 15,
   "metadata": {
    "collapsed": true
   },
   "outputs": [],
   "source": [
    "output.to_csv('State-level Accumulations.csv')"
   ]
  },
  {
   "cell_type": "code",
   "execution_count": null,
   "metadata": {
    "collapsed": true
   },
   "outputs": [],
   "source": []
  }
 ],
 "metadata": {
  "kernelspec": {
   "display_name": "Python 2",
   "language": "python",
   "name": "python2"
  },
  "language_info": {
   "codemirror_mode": {
    "name": "ipython",
    "version": 2
   },
   "file_extension": ".py",
   "mimetype": "text/x-python",
   "name": "python",
   "nbconvert_exporter": "python",
   "pygments_lexer": "ipython2",
   "version": "2.7.11"
  }
 },
 "nbformat": 4,
 "nbformat_minor": 0
}
